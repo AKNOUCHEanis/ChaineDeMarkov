{
 "cells": [
  {
   "cell_type": "markdown",
   "metadata": {},
   "source": [
    "# Projet 3 Probabilité et Statistique: AKNOUCHE ANIS - HADDADI HACENE "
   ]
  },
  {
   "cell_type": "markdown",
   "metadata": {},
   "source": [
    "# 1- DESCRIPTION DU MODELE :"
   ]
  },
  {
   "cell_type": "raw",
   "metadata": {},
   "source": [
    "# 1-1 Matrice de transitions :\n",
    "M=( [0.9, 0.1, 0] ,\n",
    "    [0  , 0.5, 0.5] ,\n",
    "    [0  , 0  , 1]  )\n",
    "    \n",
    "1-2 Vérifier que la matrice de transition est stochastique :\n",
    "\n",
    "- Tous les coefficients de la matrice sont positifs\n",
    "- la somme de chaque ligne de la matrice est égale à 1\n",
    "  ligne 0 : 0.9 + 0.1 + 0   =1\n",
    "  ligne 1 : 0   + 0.5 + 0.5 =1\n",
    "  ligne 2 : 0   + 0   + 1   =1\n",
    "  \n",
    "  Donc la matrice M de transition est stochastique\n",
    "  \n",
    "  \n",
    "2- La distribution de la probabilité initiale :\n",
    "    [ 0.9 , 0.1 , 0 ]"
   ]
  },
  {
   "cell_type": "markdown",
   "metadata": {},
   "source": [
    "# 2- TIRAGE ALEATOIRE DES ETATS :"
   ]
  },
  {
   "cell_type": "code",
   "execution_count": 1,
   "metadata": {
    "scrolled": true
   },
   "outputs": [
    {
     "name": "stdout",
     "output_type": "stream",
     "text": [
      "La séquence générée :R R R R R R R R R R R R R R R R R R R R R R R R R R R R R R R R R R R R R R R R R R R R R R R R R R \n",
      "La proba de la séquence :0.3333333333333333\n",
      "La distribution de probabilité après :51 périodes est de : [0. 0. 1.]\n",
      " \n",
      "La séquence générée :I I R R R R R R R R R R R R R R R R R R R R R R R R R R R R R R R R R R R R R R R R R R R R R R R R \n",
      "La proba de la séquence :0.08333333333333333\n",
      "La distribution de probabilité après :51 périodes est de : [0.0000000e+00 8.8817842e-16 1.0000000e+00]\n",
      " \n",
      "La séquence générée :S S S I R R R R R R R R R R R R R R R R R R R R R R R R R R R R R R R R R R R R R R R R R R R R R R \n",
      "La proba de la séquence :0.013500000000000002\n",
      "La distribution de probabilité après :51 périodes est de : [0.00515378 0.00128844 0.99355778]\n",
      " \n",
      "La séquence générée :R R R R R R R R R R R R R R R R R R R R R R R R R R R R R R R R R R R R R R R R R R R R R R R R R R \n",
      "La proba de la séquence :0.3333333333333333\n",
      "La distribution de probabilité après :51 périodes est de : [0. 0. 1.]\n",
      " \n",
      "La séquence générée :S S I I R R R R R R R R R R R R R R R R R R R R R R R R R R R R R R R R R R R R R R R R R R R R R R \n",
      "La proba de la séquence :0.0075\n",
      "La distribution de probabilité après :51 périodes est de : [0.00515378 0.00128844 0.99355778]\n",
      " \n"
     ]
    }
   ],
   "source": [
    "# Générer une séquence d'états aléatoire de taille n pour le modele SIR\n",
    "import numpy as np\n",
    "import random as rd\n",
    "\n",
    "def generer_etats_aleatoire(n):\n",
    "    \"\"\" en entrée: n : la taille de la séquence\n",
    "        en sortie:  liste_etat : liste representant la sequence d'etat\n",
    "                    seq : une chaine de charactere representant la sequence\n",
    "                    proba : la probabilité de la séquence\n",
    "                    k+1 : la taille de la séquence de sortie\n",
    "                    p0 : la distribution de probabilité\n",
    "    \"\"\"\n",
    "    #choix de l'état initial au hasard\n",
    "    seq=\"\" # la séquence d'etat\n",
    "    liste_etat=[]\n",
    "    matriceProba1=np.array([[0.9,0.1,0.0],[0.0,0.5,0.5],[0.0,0.0,1.0]])\n",
    "    \n",
    "    s=rd.randint(0,2)\n",
    "    if(s==0):\n",
    "        p0=[0.9,0.1,0.0]\n",
    "        seq+=\"S \"\n",
    "        liste_etat.append('S')\n",
    "    elif(s==1):\n",
    "        p0=[0.0,0.5,0.5]\n",
    "        seq+=\"I \"\n",
    "        liste_etat.append('I')\n",
    "    elif(s==2):\n",
    "        p0=[0.0,0.0,1]\n",
    "        seq+=\"R \"\n",
    "        liste_etat.append('R')\n",
    "    else:\n",
    "        print(\"error\")\n",
    "    \n",
    "    proba=1/3 # P(X0) probabilité qu'on soit dans un des états (S, I, R) au début\n",
    "    matriceProba2=matriceProba1\n",
    "    p1=p0\n",
    "    i=s\n",
    "    k=1\n",
    "    for k in range(1,n):\n",
    "        j=rd.randint(0,2)\n",
    "        while(matriceProba1[i,j]==0):#pour eviter de génerer une séquence avec une probabilité nulle\n",
    "            j=rd.randint(0,2)\n",
    "        if(j==0):\n",
    "            seq+=\"S \"\n",
    "            liste_etat.append('S')\n",
    "        elif(j==1):\n",
    "            seq+=\"I \"\n",
    "            liste_etat.append('I')\n",
    "        elif(j==2):\n",
    "            seq+=\"R \"\n",
    "            liste_etat.append('R')\n",
    "        else:\n",
    "            print(\"error\")\n",
    "        \n",
    "        proba*=matriceProba1[i,j]  # proba de la séquence\n",
    "        p0=np.dot(p1,matriceProba2) # la distribution de probabilité\n",
    "        matriceProba2=np.dot(matriceProba2,matriceProba1)\n",
    "        i=j\n",
    "            \n",
    "    \n",
    "    return liste_etat, seq, proba, k+1, p0\n",
    "        \n",
    "        \n",
    "for i in range(0,5): # on génére des sequences aléatoires de taille n=50\n",
    "        \n",
    "        liste_etat, seq, proba, k, p0=generer_etats_aleatoire(50)\n",
    "        print(\"La séquence générée :\"+seq)\n",
    "        print(\"La proba de la séquence :\"+str(proba))\n",
    "        print(\"La distribution de probabilité après :\"+str(k+1)+\" périodes est de : \"+str(p0))\n",
    "        print(\" \")\n",
    "        \n",
    "        "
   ]
  },
  {
   "cell_type": "markdown",
   "metadata": {},
   "source": [
    "# 3- Probabilité d'une séquence : "
   ]
  },
  {
   "cell_type": "raw",
   "metadata": {},
   "source": [
    "1- La probabilité d'obtenir la séquence d'état : SSSSSSIIIIIIIIIIIR\n",
    "proba1=P(X0=S)*P(X1=S/X0=S)*P(X2=S/X1=S)*...*P(X6=S/X5=S)*P(X7=I/X6=S)*P(X8=I/X7=I)*...P(X17=I/X16=I)*P(X18=R/X17=I)\n",
    "proba1=(1/3)*0.9*0.9*0.9*0.9*0.9*0.1*0.5*0.5*0.5*0.5*0.5*0.5*0.5*0.5*0.5*0.5*0.5\n",
    "proba1=0.00000961083\n",
    "\n",
    "2- La probabilité d'obtenir la séquence d'état : SSSSSSSSSSSSIIIR\n",
    "proba2=P(X0=S)*P(X1=S/X0=S)*P(X2=S/X1=S)*...*P(X11=S/X10=S)*P(X12=I/X11=S)*P(X13=I/X12=I)*P(X14=I/X13=I)*P(X15=R/X14=I)\n",
    "proba2=(1/3)*0.9*0.9*0.9*0.9*0.9*0.9*0.9*0.9*0.9*0.9*0.9*0.1*0.5*0.5*0.5*0.5\n",
    "proba2=0.00065377207"
   ]
  },
  {
   "cell_type": "markdown",
   "metadata": {},
   "source": [
    "# 4- Modélisation d'une population"
   ]
  },
  {
   "cell_type": "code",
   "execution_count": 10,
   "metadata": {},
   "outputs": [],
   "source": [
    "import matplotlib.pyplot as plt\n",
    "\n",
    "\n",
    "def generer_etats_init_S(n):\n",
    "    \"\"\" génére une sequence d'état à partir de l'état S (Sain)\n",
    "        en entrée: n : la taille de la séquence\n",
    "        en sortie:  liste_etat : liste representant la sequence d'etat\n",
    "                    seq : une chaine de charactere representant la sequence\n",
    "                    proba : la probabilité de la séquence\n",
    "                    k+1 : la taille de la séquence de sortie\n",
    "                    p0 : la distribution de probabilité\n",
    "    \"\"\"\n",
    "    #choix de l'état initial au hasard\n",
    "    seq=\"\" # la séquence d'etat\n",
    "    liste_etat=[]\n",
    "    matriceProba1=np.array([[0.9,0.1,0.0],[0.0,0.5,0.5],[0.0,0.0,1.0]])\n",
    "    \n",
    "    s=0\n",
    "    if(s==0):\n",
    "        p0=[0.9,0.1,0.0]\n",
    "        seq+=\"S \"\n",
    "        liste_etat.append('S')\n",
    "   \n",
    "    \n",
    "    proba=1/3 # P(X0) probabilité qu'on soit dans un des états (S, I, R) au début\n",
    "    matriceProba2=matriceProba1\n",
    "    p1=p0\n",
    "    i=s\n",
    "    k=1\n",
    "    for k in range(1,n):\n",
    "        j=rd.randint(0,2)\n",
    "        while(matriceProba1[i,j]==0):#pour eviter de génerer une séquence avec une probabilité nulle\n",
    "            j=rd.randint(0,2)\n",
    "        if(j==0):\n",
    "            seq+=\"S \"\n",
    "            liste_etat.append('S')\n",
    "        elif(j==1):\n",
    "            seq+=\"I \"\n",
    "            liste_etat.append('I')\n",
    "        elif(j==2):\n",
    "            seq+=\"R \"\n",
    "            liste_etat.append('R')\n",
    "        else:\n",
    "            print(\"error\")\n",
    "        \n",
    "        proba*=matriceProba1[i,j]  # proba de la séquence\n",
    "        p0=np.dot(p1,matriceProba2) # la distribution de probabilité\n",
    "        matriceProba2=np.dot(matriceProba2,matriceProba1)\n",
    "        i=j\n",
    "            \n",
    "    \n",
    "    return liste_etat, seq, proba, k+1, p0\n",
    "\n",
    "\n",
    "\n",
    "# générer un ensemble de séquence\n",
    "listeSeqPersonne=[] # la liste des ensembles d'etat de chaque personne\n",
    "resultats=[]\n",
    "listeEtatS=[]\n",
    "listeEtatI=[]\n",
    "listeEtatR=[]\n",
    "n=50# taille de la sequence\n",
    "nbPersonne=20000 # taille de la population\n",
    "for i in range(0,nbPersonne):\n",
    "    resultats=generer_etats_init_S(n)\n",
    "    listeSeqPersonne.append(resultats[0])\n",
    "\n",
    "matriceEtat=np.array(listeSeqPersonne)\n",
    "for i in range(0,n):\n",
    "    unique, counts = np.unique(matriceEtat[:,i], return_counts=True)\n",
    "    dictio=dict(zip(unique, counts))\n",
    "    if('S' in dictio):\n",
    "        listeEtatS.append(dictio['S'])\n",
    "    else:\n",
    "        listeEtatS.append(0)\n",
    "    if('I' in dictio):\n",
    "        listeEtatI.append(dictio['I'])\n",
    "    else:\n",
    "        listeEtatI.append(0)\n",
    "    if('R' in dictio):\n",
    "        listeEtatR.append(dictio['R'])\n",
    "    else:\n",
    "        listeEtatR.append(0)"
   ]
  },
  {
   "cell_type": "code",
   "execution_count": 11,
   "metadata": {},
   "outputs": [
    {
     "data": {
      "image/png": "[encoded data removed]",
      "text/plain": [
       "<Figure size 432x288 with 1 Axes>"
      ]
     },
     "metadata": {
      "needs_background": "light"
     },
     "output_type": "display_data"
    }
   ],
   "source": [
    "plt.plot(np.linspace(0, 2*np.pi, n),listeEtatS, label=\"S\")\n",
    "plt.plot(np.linspace(0, 2*np.pi, n),listeEtatI, label=\"I\")\n",
    "plt.plot(np.linspace(0, 2*np.pi, n),listeEtatR, label=\"R\")\n",
    "plt.legend()\n",
    "plt.show()"
   ]
  },
  {
   "cell_type": "markdown",
   "metadata": {},
   "source": [
    "# 5- Modification du modèle : "
   ]
  },
  {
   "cell_type": "markdown",
   "metadata": {},
   "source": [
    "# 5.1- En modifiant la taille de la population :"
   ]
  },
  {
   "cell_type": "code",
   "execution_count": 12,
   "metadata": {},
   "outputs": [],
   "source": [
    "# en augmentant la taille de la population : pour n=100000 personnes\n",
    "# générer un ensemble de séquence\n",
    "listeSeqPersonne=[] # la liste des ensembles d'etat de chaque personne\n",
    "resultats=[]\n",
    "listeEtatS=[]\n",
    "listeEtatI=[]\n",
    "listeEtatR=[]\n",
    "n=50# taille de la sequence\n",
    "nbPersonne=100000 # taille de la population\n",
    "for i in range(0,nbPersonne):\n",
    "    resultats=generer_etats_init_S(n)\n",
    "    listeSeqPersonne.append(resultats[0])\n",
    "\n",
    "matriceEtat=np.array(listeSeqPersonne)\n",
    "for i in range(0,n):\n",
    "    unique, counts = np.unique(matriceEtat[:,i], return_counts=True)\n",
    "    dictio=dict(zip(unique, counts))\n",
    "    if('S' in dictio):\n",
    "        listeEtatS.append(dictio['S'])\n",
    "    else:\n",
    "        listeEtatS.append(0)\n",
    "    if('I' in dictio):\n",
    "        listeEtatI.append(dictio['I'])\n",
    "    else:\n",
    "        listeEtatI.append(0)\n",
    "    if('R' in dictio):\n",
    "        listeEtatR.append(dictio['R'])\n",
    "    else:\n",
    "        listeEtatR.append(0)"
   ]
  },
  {
   "cell_type": "code",
   "execution_count": 13,
   "metadata": {},
   "outputs": [
    {
     "data": {
      "image/png": "[encoded data removed]",
      "text/plain": [
       "<Figure size 432x288 with 1 Axes>"
      ]
     },
     "metadata": {
      "needs_background": "light"
     },
     "output_type": "display_data"
    }
   ],
   "source": [
    "plt.plot(np.linspace(0, 2*np.pi, n),listeEtatS, label=\"S\")\n",
    "plt.plot(np.linspace(0, 2*np.pi, n),listeEtatI, label=\"I\")\n",
    "plt.plot(np.linspace(0, 2*np.pi, n),listeEtatR, label=\"R\")\n",
    "plt.legend()\n",
    "plt.show()"
   ]
  },
  {
   "cell_type": "raw",
   "metadata": {},
   "source": [
    "- Interprétation des résultats:\n",
    "Le résultat est proportionnel à la taille de la population, avec un pic d'individus infectés qui touche la moitié de la population comme pour la cas de n=20000 individus"
   ]
  },
  {
   "cell_type": "code",
   "execution_count": 14,
   "metadata": {},
   "outputs": [],
   "source": [
    "# en deminuant la taille de la population : n=500 personnes\n",
    "# générer un ensemble de séquence\n",
    "listeSeqPersonne=[] # la liste des ensembles d'etat de chaque personne\n",
    "resultats=[]\n",
    "listeEtatS=[]\n",
    "listeEtatI=[]\n",
    "listeEtatR=[]\n",
    "n=50# taille de la sequence\n",
    "nbPersonne=100000 # taille de la population\n",
    "for i in range(0,nbPersonne):\n",
    "    resultats=generer_etats_init_S(n)\n",
    "    listeSeqPersonne.append(resultats[0])\n",
    "\n",
    "matriceEtat=np.array(listeSeqPersonne)\n",
    "for i in range(0,n):\n",
    "    unique, counts = np.unique(matriceEtat[:,i], return_counts=True)\n",
    "    dictio=dict(zip(unique, counts))\n",
    "    if('S' in dictio):\n",
    "        listeEtatS.append(dictio['S'])\n",
    "    else:\n",
    "        listeEtatS.append(0)\n",
    "    if('I' in dictio):\n",
    "        listeEtatI.append(dictio['I'])\n",
    "    else:\n",
    "        listeEtatI.append(0)\n",
    "    if('R' in dictio):\n",
    "        listeEtatR.append(dictio['R'])\n",
    "    else:\n",
    "        listeEtatR.append(0)"
   ]
  },
  {
   "cell_type": "code",
   "execution_count": 15,
   "metadata": {},
   "outputs": [
    {
     "data": {
      "image/png": "[encoded data removed]",
      "text/plain": [
       "<Figure size 432x288 with 1 Axes>"
      ]
     },
     "metadata": {
      "needs_background": "light"
     },
     "output_type": "display_data"
    }
   ],
   "source": [
    "plt.plot(np.linspace(0, 2*np.pi, n),listeEtatS, label=\"S\")\n",
    "plt.plot(np.linspace(0, 2*np.pi, n),listeEtatI, label=\"I\")\n",
    "plt.plot(np.linspace(0, 2*np.pi, n),listeEtatR, label=\"R\")\n",
    "plt.legend()\n",
    "plt.show()"
   ]
  },
  {
   "cell_type": "raw",
   "metadata": {},
   "source": [
    "- Interprétation des résultats:\n",
    "Meme chose que les résultats précédents, les résultats son proportionnels à la taille de la population"
   ]
  },
  {
   "cell_type": "markdown",
   "metadata": {},
   "source": [
    "# 5.2 En modifiant la distribution de probabilité initiale"
   ]
  },
  {
   "cell_type": "code",
   "execution_count": 16,
   "metadata": {},
   "outputs": [],
   "source": [
    "# dans le cas où tous les individus sont sains \n",
    "\n",
    "# générer un ensemble de séquence\n",
    "listeSeqPersonne=[] # la liste des ensembles d'etat de chaque personne\n",
    "resultats=[]\n",
    "listeEtatS=[]\n",
    "listeEtatI=[]\n",
    "listeEtatR=[]\n",
    "n=50# taille de la sequence\n",
    "nbPersonne=20000 # taille de la population\n",
    "for i in range(0,nbPersonne):\n",
    "    resultats=generer_etats_init_S(n)\n",
    "    listeSeqPersonne.append(resultats[0])\n",
    "\n",
    "matriceEtat=np.array(listeSeqPersonne)\n",
    "for i in range(0,n):\n",
    "    unique, counts = np.unique(matriceEtat[:,i], return_counts=True)\n",
    "    dictio=dict(zip(unique, counts))\n",
    "    if('S' in dictio):\n",
    "        listeEtatS.append(dictio['S'])\n",
    "    else:\n",
    "        listeEtatS.append(0)\n",
    "    if('I' in dictio):\n",
    "        listeEtatI.append(dictio['I'])\n",
    "    else:\n",
    "        listeEtatI.append(0)\n",
    "    if('R' in dictio):\n",
    "        listeEtatR.append(dictio['R'])\n",
    "    else:\n",
    "        listeEtatR.append(0)"
   ]
  },
  {
   "cell_type": "code",
   "execution_count": 17,
   "metadata": {},
   "outputs": [
    {
     "data": {
      "image/png": "[encoded data removed]",
      "text/plain": [
       "<Figure size 432x288 with 1 Axes>"
      ]
     },
     "metadata": {
      "needs_background": "light"
     },
     "output_type": "display_data"
    }
   ],
   "source": [
    "plt.plot(np.linspace(0, 2*np.pi, n),listeEtatS, label=\"S\")\n",
    "plt.plot(np.linspace(0, 2*np.pi, n),listeEtatI, label=\"I\")\n",
    "plt.plot(np.linspace(0, 2*np.pi, n),listeEtatR, label=\"R\")\n",
    "plt.legend()\n",
    "plt.show()"
   ]
  },
  {
   "cell_type": "raw",
   "metadata": {},
   "source": [
    "- Interprétation des résultats:\n",
    "le nombre d'individus sains déminue jusqu'à ce qu'il n y ait plus d'individu sain, et le nombre de cas infectés augmente\n",
    "jusqu'à ce que la moitié de la population soit infectée où la courbe atteint son pic de cas infectés, au meme moment le \n",
    "nombre de cas guéri augmente jusqu'à ce que toute la population soit guérie, et le nombre de cas infecté a déminué dès \n",
    "qu'il avait atteint son pic."
   ]
  },
  {
   "cell_type": "code",
   "execution_count": 18,
   "metadata": {},
   "outputs": [],
   "source": [
    "# Dans le cas où tous les individus sont inféctés\n",
    "import matplotlib.pyplot as plt\n",
    "\n",
    "\n",
    "def generer_etats_init_I(n):\n",
    "    \"\"\" génére une sequence d'état à partir de l'état I (Infecte)\n",
    "        en entrée: n : la taille de la séquence\n",
    "        en sortie:  liste_etat : liste representant la sequence d'etat\n",
    "                    seq : une chaine de charactere representant la sequence\n",
    "                    proba : la probabilité de la séquence\n",
    "                    k+1 : la taille de la séquence de sortie\n",
    "                    p0 : la distribution de probabilité\n",
    "    \"\"\"\n",
    "    #choix de l'état initial au hasard\n",
    "    seq=\"\" # la séquence d'etat\n",
    "    liste_etat=[]\n",
    "    matriceProba1=np.array([[0.9,0.1,0.0],[0.0,0.5,0.5],[0.0,0.0,1.0]])\n",
    "    \n",
    "    s=1\n",
    "    if(s==1):\n",
    "        p0=[0.0,0.5,0.5]\n",
    "        seq+=\"I \"\n",
    "        liste_etat.append('I')\n",
    "   \n",
    "    \n",
    "    proba=1/3 # P(X0) probabilité qu'on soit dans un des états (S, I, R) au début\n",
    "    matriceProba2=matriceProba1\n",
    "    p1=p0\n",
    "    i=s\n",
    "    k=1\n",
    "    for k in range(1,n):\n",
    "        j=rd.randint(0,2)\n",
    "        while(matriceProba1[i,j]==0):#pour eviter de génerer une séquence avec une probabilité nulle\n",
    "            j=rd.randint(0,2)\n",
    "        if(j==0):\n",
    "            seq+=\"S \"\n",
    "            liste_etat.append('S')\n",
    "        elif(j==1):\n",
    "            seq+=\"I \"\n",
    "            liste_etat.append('I')\n",
    "        elif(j==2):\n",
    "            seq+=\"R \"\n",
    "            liste_etat.append('R')\n",
    "        else:\n",
    "            print(\"error\")\n",
    "        \n",
    "        proba*=matriceProba1[i,j]  # proba de la séquence\n",
    "        p0=np.dot(p1,matriceProba2) # la distribution de probabilité\n",
    "        matriceProba2=np.dot(matriceProba2,matriceProba1)\n",
    "        i=j\n",
    "            \n",
    "    \n",
    "    return liste_etat, seq, proba, k+1, p0\n",
    "\n",
    "\n",
    "\n",
    "# générer un ensemble de séquence\n",
    "listeSeqPersonne=[] # la liste des ensembles d'etat de chaque personne\n",
    "resultats=[]\n",
    "listeEtatS=[]\n",
    "listeEtatI=[]\n",
    "listeEtatR=[]\n",
    "n=50# taille de la sequence\n",
    "nbPersonne=20000 # taille de la population\n",
    "for i in range(0,nbPersonne):\n",
    "    resultats=generer_etats_init_I(n)\n",
    "    listeSeqPersonne.append(resultats[0])\n",
    "\n",
    "matriceEtat=np.array(listeSeqPersonne)\n",
    "for i in range(0,n):\n",
    "    unique, counts = np.unique(matriceEtat[:,i], return_counts=True)\n",
    "    dictio=dict(zip(unique, counts))\n",
    "    if('S' in dictio):\n",
    "        listeEtatS.append(dictio['S'])\n",
    "    else:\n",
    "        listeEtatS.append(0)\n",
    "    if('I' in dictio):\n",
    "        listeEtatI.append(dictio['I'])\n",
    "    else:\n",
    "        listeEtatI.append(0)\n",
    "    if('R' in dictio):\n",
    "        listeEtatR.append(dictio['R'])\n",
    "    else:\n",
    "        listeEtatR.append(0)"
   ]
  },
  {
   "cell_type": "code",
   "execution_count": 19,
   "metadata": {},
   "outputs": [
    {
     "data": {
      "image/png": "[encoded data removed]",
      "text/plain": [
       "<Figure size 432x288 with 1 Axes>"
      ]
     },
     "metadata": {
      "needs_background": "light"
     },
     "output_type": "display_data"
    }
   ],
   "source": [
    "plt.plot(np.linspace(0, 2*np.pi, n),listeEtatS, label=\"S\")\n",
    "plt.plot(np.linspace(0, 2*np.pi, n),listeEtatI, label=\"I\")\n",
    "plt.plot(np.linspace(0, 2*np.pi, n),listeEtatR, label=\"R\")\n",
    "plt.legend()\n",
    "plt.show()"
   ]
  },
  {
   "cell_type": "raw",
   "metadata": {},
   "source": [
    "- Interprétation des résultats:\n",
    "On remarque que le nombre d'individus infectés diminue jusqu'à atteindre 0, et le nombre d'individus guéris augmente\n",
    "de 0 jusqu'à ce que toute la population soit guérie. le nombre d'individus sains reste nul."
   ]
  },
  {
   "cell_type": "code",
   "execution_count": 20,
   "metadata": {},
   "outputs": [],
   "source": [
    "# Dans le cas où tous les individus sont Guéris\n",
    "import matplotlib.pyplot as plt\n",
    "\n",
    "\n",
    "def generer_etats_init_R(n):\n",
    "    \"\"\" génére une séquence d'état à partir de l'état R (Guéri)\n",
    "        en entrée: n : la taille de la séquence\n",
    "        en sortie:  liste_etat : liste representant la sequence d'etat\n",
    "                    seq : une chaine de charactere representant la sequence\n",
    "                    proba : la probabilité de la séquence\n",
    "                    k+1 : la taille de la séquence de sortie\n",
    "                    p0 : la distribution de probabilité\n",
    "    \"\"\"\n",
    "    #choix de l'état initial au hasard\n",
    "    seq=\"\" # la séquence d'etat\n",
    "    liste_etat=[]\n",
    "    matriceProba1=np.array([[0.9,0.1,0.0],[0.0,0.5,0.5],[0.0,0.0,1.0]])\n",
    "    \n",
    "    s=2\n",
    "    if(s==2):\n",
    "        p0=[0.0,0.0,1.0]\n",
    "        seq+=\"R \"\n",
    "        liste_etat.append('R')\n",
    "   \n",
    "    \n",
    "    proba=1/3 # P(X0) probabilité qu'on soit dans un des états (S, I, R) au début\n",
    "    matriceProba2=matriceProba1\n",
    "    p1=p0\n",
    "    i=s\n",
    "    k=1\n",
    "    for k in range(1,n):\n",
    "        j=rd.randint(0,2)\n",
    "        while(matriceProba1[i,j]==0):#pour eviter de génerer une séquence avec une probabilité nulle\n",
    "            j=rd.randint(0,2)\n",
    "        if(j==0):\n",
    "            seq+=\"S \"\n",
    "            liste_etat.append('S')\n",
    "        elif(j==1):\n",
    "            seq+=\"I \"\n",
    "            liste_etat.append('I')\n",
    "        elif(j==2):\n",
    "            seq+=\"R \"\n",
    "            liste_etat.append('R')\n",
    "        else:\n",
    "            print(\"error\")\n",
    "        \n",
    "        proba*=matriceProba1[i,j]  # proba de la séquence\n",
    "        p0=np.dot(p1,matriceProba2) # la distribution de probabilité\n",
    "        matriceProba2=np.dot(matriceProba2,matriceProba1)\n",
    "        i=j\n",
    "            \n",
    "    \n",
    "    return liste_etat, seq, proba, k+1, p0\n",
    "\n",
    "\n",
    "\n",
    "# générer un ensemble de séquence\n",
    "listeSeqPersonne=[] # la liste des ensembles d'etat de chaque personne\n",
    "resultats=[]\n",
    "listeEtatS=[]\n",
    "listeEtatI=[]\n",
    "listeEtatR=[]\n",
    "n=50# taille de la sequence\n",
    "nbPersonne=20000 # taille de la population\n",
    "for i in range(0,nbPersonne):\n",
    "    resultats=generer_etats_init_R(n)\n",
    "    listeSeqPersonne.append(resultats[0])\n",
    "\n",
    "matriceEtat=np.array(listeSeqPersonne)\n",
    "for i in range(0,n):\n",
    "    unique, counts = np.unique(matriceEtat[:,i], return_counts=True)\n",
    "    dictio=dict(zip(unique, counts))\n",
    "    if('S' in dictio):\n",
    "        listeEtatS.append(dictio['S'])\n",
    "    else:\n",
    "        listeEtatS.append(0)\n",
    "    if('I' in dictio):\n",
    "        listeEtatI.append(dictio['I'])\n",
    "    else:\n",
    "        listeEtatI.append(0)\n",
    "    if('R' in dictio):\n",
    "        listeEtatR.append(dictio['R'])\n",
    "    else:\n",
    "        listeEtatR.append(0)"
   ]
  },
  {
   "cell_type": "code",
   "execution_count": 21,
   "metadata": {},
   "outputs": [
    {
     "data": {
      "image/png": "[encoded data removed]",
      "text/plain": [
       "<Figure size 432x288 with 1 Axes>"
      ]
     },
     "metadata": {
      "needs_background": "light"
     },
     "output_type": "display_data"
    }
   ],
   "source": [
    "plt.plot(np.linspace(0, 2*np.pi, n),listeEtatS, label=\"S\")\n",
    "plt.plot(np.linspace(0, 2*np.pi, n),listeEtatI, label=\"I\")\n",
    "plt.plot(np.linspace(0, 2*np.pi, n),listeEtatR, label=\"R\")\n",
    "plt.legend()\n",
    "plt.show()"
   ]
  },
  {
   "cell_type": "raw",
   "metadata": {},
   "source": [
    "-Interprétation des résultats :\n",
    "De l'état guéri on ne peut pas aller vers un autre état donc le nombre d'individus guéris est constant et représente toute\n",
    "la population, ainsi le nombre de cas sains et infectés sont nuls."
   ]
  },
  {
   "cell_type": "markdown",
   "metadata": {},
   "source": [
    "# 5.3 En modifiant les probabilités de transition :"
   ]
  },
  {
   "cell_type": "raw",
   "metadata": {},
   "source": [
    "-Representation du cas extreme 1:\n",
    "-En modifiant la probabilité d'un individu sain de devenir infécté (Si l'on met des mesures de distanciations sociales\n",
    "un individu sain a moins de chance de devenir infecté), on peut trés bien voir le résultat si la probabilité qu'un \n",
    "individu sain devienne infecté tende vers 0 et la probabilité de rester sain tende vers 1\n",
    "Voici la nouvelle distribution de probabilité d'un individu sain : [1.0, 0.0, 0.0]"
   ]
  },
  {
   "cell_type": "code",
   "execution_count": 22,
   "metadata": {},
   "outputs": [],
   "source": [
    "# Dans le cas où tous les individus sont Sains\n",
    "import matplotlib.pyplot as plt\n",
    "\n",
    "\n",
    "def generer_etats_init_S(n):\n",
    "    \"\"\" génére une sequence d'état à partir de l'état S (Sain)\n",
    "        en entrée: n : la taille de la séquence\n",
    "        en sortie:  liste_etat : liste representant la sequence d'etat\n",
    "                    seq : une chaine de charactere representant la sequence\n",
    "                    proba : la probabilité de la séquence\n",
    "                    k+1 : la taille de la séquence de sortie\n",
    "                    p0 : la distribution de probabilité\n",
    "    \"\"\"\n",
    "    #choix de l'état initial au hasard\n",
    "    seq=\"\" # la séquence d'etat\n",
    "    liste_etat=[]\n",
    "    matriceProba1=np.array([[1,0.0,0.0],[0.0,0.5,0.5],[0.0,0.0,1.0]])\n",
    "    \n",
    "    s=0\n",
    "    if(s==0):\n",
    "        p0=[1.0,0.0,0.0]\n",
    "        seq+=\"S \"\n",
    "        liste_etat.append('S')\n",
    "   \n",
    "    \n",
    "    proba=1/3 # P(X0) probabilité qu'on soit dans un des états (S, I, R) au début\n",
    "    matriceProba2=matriceProba1\n",
    "    p1=p0\n",
    "    i=s\n",
    "    k=1\n",
    "    for k in range(1,n):\n",
    "        j=rd.randint(0,2)\n",
    "        while(matriceProba1[i,j]==0):#pour eviter de génerer une séquence avec une probabilité nulle\n",
    "            j=rd.randint(0,2)\n",
    "        if(j==0):\n",
    "            seq+=\"S \"\n",
    "            liste_etat.append('S')\n",
    "        elif(j==1):\n",
    "            seq+=\"I \"\n",
    "            liste_etat.append('I')\n",
    "        elif(j==2):\n",
    "            seq+=\"R \"\n",
    "            liste_etat.append('R')\n",
    "        else:\n",
    "            print(\"error\")\n",
    "        \n",
    "        proba*=matriceProba1[i,j]  # proba de la séquence\n",
    "        p0=np.dot(p1,matriceProba2) # la distribution de probabilité\n",
    "        matriceProba2=np.dot(matriceProba2,matriceProba1)\n",
    "        i=j\n",
    "            \n",
    "    \n",
    "    return liste_etat, seq, proba, k+1, p0\n",
    "\n",
    "\n",
    "\n",
    "# générer un ensemble de séquence\n",
    "listeSeqPersonne=[] # la liste des ensembles d'etat de chaque personne\n",
    "resultats=[]\n",
    "listeEtatS=[]\n",
    "listeEtatI=[]\n",
    "listeEtatR=[]\n",
    "n=50# taille de la sequence\n",
    "nbPersonne=20000 # taille de la population\n",
    "for i in range(0,nbPersonne):\n",
    "    resultats=generer_etats_init_S(n)\n",
    "    listeSeqPersonne.append(resultats[0])\n",
    "\n",
    "matriceEtat=np.array(listeSeqPersonne)\n",
    "for i in range(0,n):\n",
    "    unique, counts = np.unique(matriceEtat[:,i], return_counts=True)\n",
    "    dictio=dict(zip(unique, counts))\n",
    "    if('S' in dictio):\n",
    "        listeEtatS.append(dictio['S'])\n",
    "    else:\n",
    "        listeEtatS.append(0)\n",
    "    if('I' in dictio):\n",
    "        listeEtatI.append(dictio['I'])\n",
    "    else:\n",
    "        listeEtatI.append(0)\n",
    "    if('R' in dictio):\n",
    "        listeEtatR.append(dictio['R'])\n",
    "    else:\n",
    "        listeEtatR.append(0)"
   ]
  },
  {
   "cell_type": "code",
   "execution_count": 23,
   "metadata": {},
   "outputs": [
    {
     "data": {
      "image/png": "[encoded data removed]",
      "text/plain": [
       "<Figure size 432x288 with 1 Axes>"
      ]
     },
     "metadata": {
      "needs_background": "light"
     },
     "output_type": "display_data"
    }
   ],
   "source": [
    "plt.plot(np.linspace(0, 2*np.pi, n),listeEtatS, label=\"S\")\n",
    "plt.plot(np.linspace(0, 2*np.pi, n),listeEtatI, label=\"I\")\n",
    "plt.plot(np.linspace(0, 2*np.pi, n),listeEtatR, label=\"R\")\n",
    "plt.legend()\n",
    "plt.show()"
   ]
  },
  {
   "cell_type": "raw",
   "metadata": {},
   "source": [
    "-Interprétation des résultats :\n",
    "On remarque que le nombre de cas sains reste constant meme après plusieures périodes de temps, c'est le résultat d'un \n",
    "conffinement total de toute la population, si aucune personne n'est en contacte avec une autre personne, la probabilité\n",
    "d'etre infecté est nulle."
   ]
  },
  {
   "cell_type": "raw",
   "metadata": {},
   "source": [
    "-Représentation du cas extreme 2:\n",
    "-En modifiant la probabilité d'un individu sain de devenir infécté (Si l'on ne respecte aucunes mesures de distanciations \n",
    "sociales, un individu sain a plus de chance de devenir infecté, on peut trés bien voir le résultat si la probabilité qu'un \n",
    "individu sain devienne infecté tende vers 1 et la probabilité de rester sain tende vers 0 )\n",
    "Voici la nouvelle distribution de probabilité d'un individu sain : [0.0, 1.0, 0.0]"
   ]
  },
  {
   "cell_type": "code",
   "execution_count": 24,
   "metadata": {},
   "outputs": [],
   "source": [
    "# Dans le cas où tous les individus sont Sains\n",
    "import matplotlib.pyplot as plt\n",
    "import math\n",
    "\n",
    "def generer_etats_init_S(n):\n",
    "    \"\"\" génére une sequence d'état à partir de l'état S (Sain)\n",
    "        en entrée: n : la taille de la séquence\n",
    "        en sortie:  liste_etat : liste representant la sequence d'etat\n",
    "                    seq : une chaine de charactere representant la sequence\n",
    "                    proba : la probabilité de la séquence\n",
    "                    k+1 : la taille de la séquence de sortie\n",
    "                    p0 : la distribution de probabilité\n",
    "    \"\"\"\n",
    "    #choix de l'état initial au hasard\n",
    "    seq=\"\" # la séquence d'etat\n",
    "    liste_etat=[]\n",
    "    matriceProba1=np.array([[0.0,1.0,0.0],[0.0,0.5,0.5],[0.0,0.0,1.0]])\n",
    "    \n",
    "    s=0\n",
    "    if(s==0):\n",
    "        p0=[0.0,1.0,0.0]\n",
    "        seq+=\"S \"\n",
    "        liste_etat.append('S')\n",
    "   \n",
    "    \n",
    "    proba=1/3 # P(X0) probabilité qu'on soit dans un des états (S, I, R) au début\n",
    "    matriceProba2=matriceProba1\n",
    "    p1=p0\n",
    "    i=s\n",
    "    k=1\n",
    "    for k in range(1,n):\n",
    "        j=rd.randint(0,2)\n",
    "        while(matriceProba1[i,j]==0):#pour eviter de génerer une séquence avec une probabilité nulle\n",
    "            j=rd.randint(0,2)\n",
    "        if(j==0):\n",
    "            seq+=\"S \"\n",
    "            liste_etat.append('S')\n",
    "        elif(j==1):\n",
    "            seq+=\"I \"\n",
    "            liste_etat.append('I')\n",
    "        elif(j==2):\n",
    "            seq+=\"R \"\n",
    "            liste_etat.append('R')\n",
    "        else:\n",
    "            print(\"error\")\n",
    "        \n",
    "        proba*=matriceProba1[i,j]  # proba de la séquence\n",
    "        p0=np.dot(p1,matriceProba2) # la distribution de probabilité\n",
    "        matriceProba2=np.dot(matriceProba2,matriceProba1)\n",
    "        i=j\n",
    "            \n",
    "    \n",
    "    return liste_etat, seq, proba, k+1, p0\n",
    "\n",
    "\n",
    "\n",
    "# générer un ensemble de séquence\n",
    "listeSeqPersonne=[] # la liste des ensembles d'etat de chaque personne\n",
    "resultats=[]\n",
    "listeEtatS=[]\n",
    "listeEtatI=[]\n",
    "listeEtatR=[]\n",
    "n=50# taille de la sequence\n",
    "nbPersonne=20000 # taille de la population\n",
    "for i in range(0,nbPersonne):\n",
    "    resultats=generer_etats_init_S(n)\n",
    "    listeSeqPersonne.append(resultats[0])\n",
    "\n",
    "matriceEtat=np.array(listeSeqPersonne)\n",
    "for i in range(0,n):\n",
    "    unique, counts = np.unique(matriceEtat[:,i], return_counts=True)\n",
    "    dictio=dict(zip(unique, counts))\n",
    "    if('S' in dictio):\n",
    "        listeEtatS.append(dictio['S'])\n",
    "    else:\n",
    "        listeEtatS.append(0)\n",
    "    if('I' in dictio):\n",
    "        listeEtatI.append(dictio['I'])\n",
    "    else:\n",
    "        listeEtatI.append(0)\n",
    "    if('R' in dictio):\n",
    "        listeEtatR.append(dictio['R'])\n",
    "    else:\n",
    "        listeEtatR.append(0)"
   ]
  },
  {
   "cell_type": "code",
   "execution_count": 25,
   "metadata": {},
   "outputs": [
    {
     "data": {
      "image/png": "[encoded data removed]",
      "text/plain": [
       "<Figure size 432x288 with 1 Axes>"
      ]
     },
     "metadata": {
      "needs_background": "light"
     },
     "output_type": "display_data"
    }
   ],
   "source": [
    "plt.plot(np.linspace(0, 2*np.pi, n),listeEtatS, label=\"S\")\n",
    "plt.plot(np.linspace(0, 2*np.pi, n),listeEtatI, label=\"I\")\n",
    "plt.plot(np.linspace(0, 2*np.pi, n),listeEtatR, label=\"R\")\n",
    "plt.legend()\n",
    "plt.show()"
   ]
  },
  {
   "cell_type": "raw",
   "metadata": {},
   "source": [
    "-Interprétation des résultats :\n",
    "Le nombre d'individus sains converger plus rapidement vers 0, puisque la chance de devenir infecté \n",
    "est plus grande (dans cet exemple elle vaut 1), on remarque aussi que le pic de cas infectés à rapidement évoluer, en moins \n",
    "d'un temps toute la population a été infecté."
   ]
  },
  {
   "cell_type": "markdown",
   "metadata": {},
   "source": [
    "# 5.4 Si un individu guéri peut devenir infecté :"
   ]
  },
  {
   "cell_type": "raw",
   "metadata": {},
   "source": [
    "# Dans le cas ou un individu guéri peut devenir infecté, si il est en contact avec un individu infecté, donc on peut supposer\n",
    "que ce sont les memes probabilités pour un individu sain de devenir infecté:\n",
    "On pose la distribution de probabilités d'un individu guéri: [0.0, 0.1, 0.9]"
   ]
  },
  {
   "cell_type": "code",
   "execution_count": 27,
   "metadata": {},
   "outputs": [],
   "source": [
    "# Dans le cas où tous les individus sont Sains\n",
    "import matplotlib.pyplot as plt\n",
    "import math\n",
    "\n",
    "def generer_etats_init_S(n):\n",
    "    \"\"\" génére une sequence d'état à partir de l'état S (Sain)\n",
    "        en entrée: n : la taille de la séquence\n",
    "        en sortie:  liste_etat : liste representant la sequence d'etat\n",
    "                    seq : une chaine de charactere representant la sequence\n",
    "                    proba : la probabilité de la séquence\n",
    "                    k+1 : la taille de la séquence de sortie\n",
    "                    p0 : la distribution de probabilité\n",
    "    \"\"\"\n",
    "    #choix de l'état initial au hasard\n",
    "    seq=\"\" # la séquence d'etat\n",
    "    liste_etat=[]\n",
    "    matriceProba1=np.array([[0.9,0.1,0.0],[0.0,0.5,0.5],[0.0,0.1,0.9]])\n",
    "    \n",
    "    s=0\n",
    "    if(s==0):\n",
    "        p0=[0.1,0.9,0.0]\n",
    "        seq+=\"S \"\n",
    "        liste_etat.append('S')\n",
    "   \n",
    "    \n",
    "    proba=1/3 # P(X0) probabilité qu'on soit dans un des états (S, I, R) au début\n",
    "    matriceProba2=matriceProba1\n",
    "    p1=p0\n",
    "    i=s\n",
    "    k=1\n",
    "    for k in range(1,n):\n",
    "        j=rd.randint(0,2)\n",
    "        while(matriceProba1[i,j]==0):#pour eviter de génerer une séquence avec une probabilité nulle\n",
    "            j=rd.randint(0,2)\n",
    "        if(j==0):\n",
    "            seq+=\"S \"\n",
    "            liste_etat.append('S')\n",
    "        elif(j==1):\n",
    "            seq+=\"I \"\n",
    "            liste_etat.append('I')\n",
    "        elif(j==2):\n",
    "            seq+=\"R \"\n",
    "            liste_etat.append('R')\n",
    "        else:\n",
    "            print(\"error\")\n",
    "        \n",
    "        proba*=matriceProba1[i,j]  # proba de la séquence\n",
    "        p0=np.dot(p1,matriceProba2) # la distribution de probabilité\n",
    "        matriceProba2=np.dot(matriceProba2,matriceProba1)\n",
    "        i=j\n",
    "            \n",
    "    \n",
    "    return liste_etat, seq, proba, k+1, p0\n",
    "\n",
    "\n",
    "\n",
    "# générer un ensemble de séquence\n",
    "listeSeqPersonne=[] # la liste des ensembles d'etat de chaque personne\n",
    "resultats=[]\n",
    "listeEtatS=[]\n",
    "listeEtatI=[]\n",
    "listeEtatR=[]\n",
    "n=50# taille de la sequence\n",
    "nbPersonne=20000 # taille de la population\n",
    "for i in range(0,nbPersonne):\n",
    "    resultats=generer_etats_init_S(n)\n",
    "    listeSeqPersonne.append(resultats[0])\n",
    "\n",
    "matriceEtat=np.array(listeSeqPersonne)\n",
    "for i in range(0,n):\n",
    "    unique, counts = np.unique(matriceEtat[:,i], return_counts=True)\n",
    "    dictio=dict(zip(unique, counts))\n",
    "    if('S' in dictio):\n",
    "        listeEtatS.append(dictio['S'])\n",
    "    else:\n",
    "        listeEtatS.append(0)\n",
    "    if('I' in dictio):\n",
    "        listeEtatI.append(dictio['I'])\n",
    "    else:\n",
    "        listeEtatI.append(0)\n",
    "    if('R' in dictio):\n",
    "        listeEtatR.append(dictio['R'])\n",
    "    else:\n",
    "        listeEtatR.append(0)"
   ]
  },
  {
   "cell_type": "code",
   "execution_count": 28,
   "metadata": {},
   "outputs": [
    {
     "data": {
      "image/png": "[encoded data removed]",
      "text/plain": [
       "<Figure size 432x288 with 1 Axes>"
      ]
     },
     "metadata": {
      "needs_background": "light"
     },
     "output_type": "display_data"
    }
   ],
   "source": [
    "plt.plot(np.linspace(0, 2*np.pi, n),listeEtatS, label=\"S\")\n",
    "plt.plot(np.linspace(0, 2*np.pi, n),listeEtatI, label=\"I\")\n",
    "plt.plot(np.linspace(0, 2*np.pi, n),listeEtatR, label=\"R\")\n",
    "plt.legend()\n",
    "plt.show()"
   ]
  },
  {
   "cell_type": "raw",
   "metadata": {},
   "source": [
    "-Interprétation des résultats:\n",
    "le nombre d'individus sains déminue rapidement pour atteindre 0. Le nombre d'individus infectés à atteint la moitié de \n",
    "la population et est devenu constant, puis le nombre d'individus guéris a aussi augmenté pour atteindre la moitié de\n",
    "la population et devenir constant. le nombre de cas infectés et le nombre de cas guéris se chauvauchent et convergent vers \n",
    "la moitié du nombre de la population."
   ]
  },
  {
   "cell_type": "markdown",
   "metadata": {},
   "source": [
    "# 5.5 Critiques du modèle SIR et Améliorations :"
   ]
  },
  {
   "cell_type": "raw",
   "metadata": {},
   "source": [
    "-Entre l'état Sain 'S' et l'état Infecté 'I', pour certaines maladies, lorsque un individu sain est y exposé il faut parfois un certain temps avant que l'individu ne soit infecté, ce qui est appelée période de latence, du coup en devrait rajouter un autre état Exposé 'E' entre l'état S et I.\n",
    "\n",
    "-Après qu'un individu a été infecté, il peut décèder, représenté par l'état Décès 'D'. \n",
    "La maladie peut se terminer d'elle même et donner à l'individu une immunisation contre la réinfection, représenté par\n",
    "l'état Guéri 'R'.\n",
    "Dans le cas contraire, l'individu peut toujours être infectieux, il se retrouve isolé de la population par politique \n",
    "de quarantaine, représenté par l'état Quarantaine 'Q', sans négliger le fait que ce dernier peut éventuellement guérir \n",
    "et réintégrer l'état Sain 'S'.\n",
    "    "
   ]
  },
  {
   "cell_type": "code",
   "execution_count": null,
   "metadata": {},
   "outputs": [],
   "source": []
  }
 ],
 "metadata": {
  "kernelspec": {
   "display_name": "Python 3",
   "language": "python",
   "name": "python3"
  },
  "language_info": {
   "codemirror_mode": {
    "name": "ipython",
    "version": 3
   },
   "file_extension": ".py",
   "mimetype": "text/x-python",
   "name": "python",
   "nbconvert_exporter": "python",
   "pygments_lexer": "ipython3",
   "version": "3.7.4"
  }
 },
 "nbformat": 4,
 "nbformat_minor": 2
}
